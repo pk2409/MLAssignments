{
 "cells": [
  {
   "cell_type": "code",
   "execution_count": null,
   "id": "24f22cde",
   "metadata": {},
   "outputs": [],
   "source": [
    "import pandas as pd\n",
    "from sklearn.preprocessing import MinMaxScaler, StandardScaler\n",
    "from sklearn.metrics.pairwise import cosine_similarity\n",
    "from scipy.spatial.distance import jaccard\n",
    "\n",
    "from google.colab import files\n",
    "uploaded = files.upload()\n",
    "\n",
    "data = pd.read_csv(next(iter(uploaded)))\n",
    "\n",
    "selected_columns = [\n",
    "    \"Education\", \"Occupation\", \"Gender\", \"MaritalStatus\",\n",
    "    \"HomeOwnerFlag\", \"NumberCarsOwned\", \"NumberChildrenAtHome\",\n",
    "    \"TotalChildren\", \"YearlyIncome\"\n",
    "]\n",
    "selected_data = data[selected_columns]\n",
    "\n",
    "print(\"Missing Values:\")\n",
    "print(selected_data.isnull().sum())\n",
    "\n",
    "scaler_minmax = MinMaxScaler()\n",
    "selected_data['YearlyIncome_Normalized'] = scaler_minmax.fit_transform(\n",
    "    selected_data[['YearlyIncome']]\n",
    ")\n",
    "\n",
    "selected_data['YearlyIncome_Binned'] = pd.cut(\n",
    "    selected_data['YearlyIncome'], bins=5, labels=['Very Low', 'Low', 'Medium', 'High', 'Very High']\n",
    ")\n",
    "\n",
    "scaler_standard = StandardScaler()\n",
    "selected_data['YearlyIncome_Standardized'] = scaler_standard.fit_transform(\n",
    "    selected_data[['YearlyIncome']]\n",
    ")\n",
    "\n",
    "encoded_data = pd.get_dummies(selected_data.drop(columns=['YearlyIncome_Binned']),\n",
    "                               columns=[\"Education\", \"Occupation\", \"Gender\", \"MaritalStatus\"])\n",
    "\n",
    "row1 = encoded_data.iloc[0]\n",
    "row2 = encoded_data.iloc[1]\n",
    "\n",
    "cosine_sim = cosine_similarity([row1], [row2])\n",
    "\n",
    "jaccard_sim = 1 - jaccard(row1.astype(bool), row2.astype(bool))\n",
    "\n",
    "smc = (row1 == row2).mean()\n",
    "\n",
    "print(f\"Cosine Similarity: {cosine_sim[0][0]}\")\n",
    "print(f\"Jaccard Similarity: {jaccard_sim}\")\n",
    "print(f\"Simple Matching Coefficient: {smc}\")\n",
    "\n",
    "correlation = selected_data['NumberCarsOwned'].corr(selected_data['YearlyIncome'])\n",
    "print(f\"Correlation between NumberCarsOwned and YearlyIncome: {correlation}\")\n",
    "\n",
    "selected_data.head()\n"
   ]
  }
 ],
 "metadata": {
  "kernelspec": {
   "display_name": "Python 3 (ipykernel)",
   "language": "python",
   "name": "python3"
  },
  "language_info": {
   "codemirror_mode": {
    "name": "ipython",
    "version": 3
   },
   "file_extension": ".py",
   "mimetype": "text/x-python",
   "name": "python",
   "nbconvert_exporter": "python",
   "pygments_lexer": "ipython3",
   "version": "3.11.4"
  }
 },
 "nbformat": 4,
 "nbformat_minor": 5
}
